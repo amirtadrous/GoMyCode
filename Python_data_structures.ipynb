{
  "nbformat": 4,
  "nbformat_minor": 0,
  "metadata": {
    "colab": {
      "provenance": []
    },
    "kernelspec": {
      "name": "python3",
      "display_name": "Python 3"
    },
    "language_info": {
      "name": "python"
    }
  },
  "cells": [
    {
      "cell_type": "code",
      "execution_count": null,
      "metadata": {
        "colab": {
          "base_uri": "https://localhost:8080/"
        },
        "id": "Ki2mf7bqO6j4",
        "outputId": "ef5ac794-730c-48a9-f6d0-23615f005823"
      },
      "outputs": [
        {
          "output_type": "stream",
          "name": "stdout",
          "text": [
            "36\n"
          ]
        }
      ],
      "source": [
        "# Question 1 \n",
        "\n",
        "list= [2, 3, 6]\n",
        "res = 1 \n",
        "for i in list:\n",
        "  res = res * i\n",
        "print (res)"
      ]
    },
    {
      "cell_type": "code",
      "source": [
        "# Question 2\n",
        "\n",
        "list =[(2, 5), (1, 2), (4, 4), (2, 3), (2, 1)]\n",
        "last_item= lambda x:x[-1]\n",
        "list.sort(key=last_item)\n",
        "print(list)"
      ],
      "metadata": {
        "colab": {
          "base_uri": "https://localhost:8080/"
        },
        "id": "az-URUNOoJpB",
        "outputId": "f09467be-456d-4226-885c-30706f8098b3"
      },
      "execution_count": 42,
      "outputs": [
        {
          "output_type": "stream",
          "name": "stdout",
          "text": [
            "[(2, 1), (1, 2), (2, 3), (4, 4), (2, 5)]\n"
          ]
        }
      ]
    },
    {
      "cell_type": "code",
      "source": [
        "#Question 3\n",
        "\n",
        "d1 = {'a': 100, 'b': 200, 'c':300}\n",
        "d2 = {'a': 300, 'b': 200, 'd':400}\n",
        "for key in d1:\n",
        "    if key in d2:\n",
        "       d2[key] = d2[key] + d1[key]\n",
        "    else:\n",
        "      d2[key]=d1[key]        \n",
        "print(d2)"
      ],
      "metadata": {
        "colab": {
          "base_uri": "https://localhost:8080/"
        },
        "id": "X8T7UQTDpQCo",
        "outputId": "fcc41857-8c0b-42cd-cf71-2204aef4ae99"
      },
      "execution_count": 34,
      "outputs": [
        {
          "output_type": "stream",
          "name": "stdout",
          "text": [
            "{'a': 400, 'b': 400, 'd': 400, 'c': 300}\n"
          ]
        }
      ]
    },
    {
      "cell_type": "code",
      "source": [
        "#Question 4\n",
        "\n",
        "num = int(input(\"Type a number: \"))\n",
        "numDict = {}\n",
        "for i in range(1, num+1):\n",
        "    numDict[i] = i*i\n",
        "print(numDict)"
      ],
      "metadata": {
        "colab": {
          "base_uri": "https://localhost:8080/"
        },
        "id": "KYJSvWRm6iCD",
        "outputId": "711596ce-4298-4f6e-ce55-71ff78544fbd"
      },
      "execution_count": 104,
      "outputs": [
        {
          "output_type": "stream",
          "name": "stdout",
          "text": [
            "Type a number: 8\n",
            "{1: 1, 2: 4, 3: 9, 4: 16, 5: 25, 6: 36, 7: 49, 8: 64}\n"
          ]
        }
      ]
    },
    {
      "cell_type": "code",
      "source": [
        "#Question 5\n",
        "\n",
        "list = [('item1', '12.20'), ('item2', '15.10'), ('item3', '24.5')]\n",
        "float_element=lambda x: float(x[1])\n",
        "list.sort(key = float_element , reverse=True)\n",
        "print(list)"
      ],
      "metadata": {
        "colab": {
          "base_uri": "https://localhost:8080/"
        },
        "id": "Vt_wSBJW8yvJ",
        "outputId": "3f834076-f74f-4d5f-a307-cf76b6bbcaa2"
      },
      "execution_count": 4,
      "outputs": [
        {
          "output_type": "stream",
          "name": "stdout",
          "text": [
            "[('item3', '24.5'), ('item2', '15.10'), ('item1', '12.20')]\n"
          ]
        }
      ]
    },
    {
      "cell_type": "code",
      "source": [
        "#Question 6\n",
        "\n",
        "set = {0,1,2,3,4}\n",
        "for i in set:\n",
        "  print(i)\n",
        "set.add(5)\n",
        "print(set)\n",
        "set.remove(2)\n",
        "print(set)"
      ],
      "metadata": {
        "colab": {
          "base_uri": "https://localhost:8080/"
        },
        "id": "HHAQSwhz-VPy",
        "outputId": "9f68117f-6cc7-44ee-f49b-3b81045da489"
      },
      "execution_count": 30,
      "outputs": [
        {
          "output_type": "stream",
          "name": "stdout",
          "text": [
            "0\n",
            "1\n",
            "2\n",
            "3\n",
            "4\n",
            "{0, 1, 2, 3, 4, 5}\n",
            "{0, 1, 3, 4, 5}\n"
          ]
        }
      ]
    }
  ]
}