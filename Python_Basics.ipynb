{
  "nbformat": 4,
  "nbformat_minor": 0,
  "metadata": {
    "colab": {
      "provenance": []
    },
    "kernelspec": {
      "name": "python3",
      "display_name": "Python 3"
    },
    "language_info": {
      "name": "python"
    }
  },
  "cells": [
    {
      "cell_type": "code",
      "execution_count": 3,
      "metadata": {
        "colab": {
          "base_uri": "https://localhost:8080/"
        },
        "id": "TzAHMOvUe9R3",
        "outputId": "38a90581-354a-4396-b2c6-826f378047ee"
      },
      "outputs": [
        {
          "output_type": "stream",
          "name": "stdout",
          "text": [
            "Enter your First Name : Amir\n",
            "Enter your Last Name : Tadrous\n",
            "Tadrous Amir\n"
          ]
        }
      ],
      "source": [
        "f= input(\"Enter your First Name : \")\n",
        "l = input(\"Enter your Last Name : \")\n",
        "print (l,f)"
      ]
    },
    {
      "cell_type": "code",
      "source": [
        "num= int(input(\"Enter Number \"))\n",
        "print (\"The result is\",num+int(str(num)+ str(num))+int(str(num)+ str(num)+ str(num)))"
      ],
      "metadata": {
        "colab": {
          "base_uri": "https://localhost:8080/"
        },
        "id": "8b05HSR6fbq6",
        "outputId": "99f03da8-4ead-46bb-d545-8b712efc5288"
      },
      "execution_count": 28,
      "outputs": [
        {
          "output_type": "stream",
          "name": "stdout",
          "text": [
            "Enter Number 5\n",
            "The result is 615\n"
          ]
        }
      ]
    },
    {
      "cell_type": "code",
      "source": [
        "num= int(input(\"Enter Number \"))\n",
        "if num % 2 > 0:\n",
        "  print(\"Number is Odd\")\n",
        "else:\n",
        "  print (\"Number is Even\")"
      ],
      "metadata": {
        "colab": {
          "base_uri": "https://localhost:8080/"
        },
        "id": "yzbTqnnCkEGP",
        "outputId": "fe5ff809-a68c-4f95-e501-bddb7c6bdc3d"
      },
      "execution_count": 32,
      "outputs": [
        {
          "output_type": "stream",
          "name": "stdout",
          "text": [
            "Enter Number 1\n",
            "Number is Odd\n"
          ]
        }
      ]
    },
    {
      "cell_type": "code",
      "source": [
        "num = [i for i in range(2000, 3201) if (i % 7 == 0) and (i % 5 != 0)]\n",
        "print(num)"
      ],
      "metadata": {
        "colab": {
          "base_uri": "https://localhost:8080/"
        },
        "id": "_ZIDZawRphav",
        "outputId": "fafa2a1f-7a67-457e-d52a-eb6add4610f6"
      },
      "execution_count": 38,
      "outputs": [
        {
          "output_type": "stream",
          "name": "stdout",
          "text": [
            "[2002, 2009, 2016, 2023, 2037, 2044, 2051, 2058, 2072, 2079, 2086, 2093, 2107, 2114, 2121, 2128, 2142, 2149, 2156, 2163, 2177, 2184, 2191, 2198, 2212, 2219, 2226, 2233, 2247, 2254, 2261, 2268, 2282, 2289, 2296, 2303, 2317, 2324, 2331, 2338, 2352, 2359, 2366, 2373, 2387, 2394, 2401, 2408, 2422, 2429, 2436, 2443, 2457, 2464, 2471, 2478, 2492, 2499, 2506, 2513, 2527, 2534, 2541, 2548, 2562, 2569, 2576, 2583, 2597, 2604, 2611, 2618, 2632, 2639, 2646, 2653, 2667, 2674, 2681, 2688, 2702, 2709, 2716, 2723, 2737, 2744, 2751, 2758, 2772, 2779, 2786, 2793, 2807, 2814, 2821, 2828, 2842, 2849, 2856, 2863, 2877, 2884, 2891, 2898, 2912, 2919, 2926, 2933, 2947, 2954, 2961, 2968, 2982, 2989, 2996, 3003, 3017, 3024, 3031, 3038, 3052, 3059, 3066, 3073, 3087, 3094, 3101, 3108, 3122, 3129, 3136, 3143, 3157, 3164, 3171, 3178, 3192, 3199]\n"
          ]
        }
      ]
    },
    {
      "cell_type": "code",
      "source": [
        "num= int(input(\"Enter Number \"))\n",
        "fact = 1\n",
        "for i in range(1,num+1):\n",
        "  fact *= i\n",
        "print (\"The result is\",fact)"
      ],
      "metadata": {
        "colab": {
          "base_uri": "https://localhost:8080/"
        },
        "id": "WXLOeIp4sC3Q",
        "outputId": "f04b6444-477f-48c6-cc69-476e51dba1a7"
      },
      "execution_count": 2,
      "outputs": [
        {
          "output_type": "stream",
          "name": "stdout",
          "text": [
            "Enter Number 5\n",
            "The result is 120\n"
          ]
        }
      ]
    },
    {
      "cell_type": "code",
      "source": [
        "s = \"Hello Team\"\n",
        "result= \"\"\n",
        "for i in range(len(s)):\n",
        "  if i % 2 == 0:\n",
        "    result = result+ s[i]\n",
        "print (result)"
      ],
      "metadata": {
        "id": "hcctb78asCho"
      },
      "execution_count": null,
      "outputs": []
    },
    {
      "cell_type": "code",
      "source": [
        "s = int(input(\"Enter Sale Amount: \"))\n",
        "if(s>0):\n",
        "    if s>=500:\n",
        "       disc = s*0.5\n",
        "    elif s>=200:\n",
        "        disc= s*0.3\n",
        "    else:\n",
        "        disc= s*0.1\n",
        "\n",
        "    print(\"Discount :\",disc)\n",
        "    print(\"Net Pay  :\",s-disc)\n",
        "else:\n",
        "    print(\"Invalid Amount\")"
      ],
      "metadata": {
        "colab": {
          "base_uri": "https://localhost:8080/"
        },
        "id": "PSiFdwMVZLx-",
        "outputId": "668d8988-34bb-426d-cc7a-55e4f25cf771"
      },
      "execution_count": 27,
      "outputs": [
        {
          "output_type": "stream",
          "name": "stdout",
          "text": [
            "Enter Sale Amount: 100\n",
            "Discount : 10.0\n",
            "Net Pay  : 90.0\n"
          ]
        }
      ]
    }
  ]
}